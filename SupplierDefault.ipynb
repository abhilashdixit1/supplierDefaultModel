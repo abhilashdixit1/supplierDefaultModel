{
  "nbformat": 4,
  "nbformat_minor": 0,
  "metadata": {
    "colab": {
      "provenance": []
    },
    "kernelspec": {
      "name": "python3",
      "display_name": "Python 3"
    },
    "language_info": {
      "name": "python"
    }
  },
  "cells": [
    {
      "cell_type": "code",
      "source": [
        "!pip install xgboost scikit-learn pandas matplotlib seaborn"
      ],
      "metadata": {
        "colab": {
          "base_uri": "https://localhost:8080/"
        },
        "id": "Lzbv5USY019l",
        "outputId": "53a225bd-fb62-40e6-ab17-3d58ce09b824"
      },
      "execution_count": 36,
      "outputs": [
        {
          "output_type": "stream",
          "name": "stdout",
          "text": [
            "Requirement already satisfied: xgboost in /usr/local/lib/python3.10/dist-packages (2.1.3)\n",
            "Requirement already satisfied: scikit-learn in /usr/local/lib/python3.10/dist-packages (1.5.2)\n",
            "Requirement already satisfied: pandas in /usr/local/lib/python3.10/dist-packages (2.2.2)\n",
            "Requirement already satisfied: matplotlib in /usr/local/lib/python3.10/dist-packages (3.8.0)\n",
            "Requirement already satisfied: seaborn in /usr/local/lib/python3.10/dist-packages (0.13.2)\n",
            "Requirement already satisfied: numpy in /usr/local/lib/python3.10/dist-packages (from xgboost) (1.26.4)\n",
            "Requirement already satisfied: nvidia-nccl-cu12 in /usr/local/lib/python3.10/dist-packages (from xgboost) (2.23.4)\n",
            "Requirement already satisfied: scipy in /usr/local/lib/python3.10/dist-packages (from xgboost) (1.13.1)\n",
            "Requirement already satisfied: joblib>=1.2.0 in /usr/local/lib/python3.10/dist-packages (from scikit-learn) (1.4.2)\n",
            "Requirement already satisfied: threadpoolctl>=3.1.0 in /usr/local/lib/python3.10/dist-packages (from scikit-learn) (3.5.0)\n",
            "Requirement already satisfied: python-dateutil>=2.8.2 in /usr/local/lib/python3.10/dist-packages (from pandas) (2.8.2)\n",
            "Requirement already satisfied: pytz>=2020.1 in /usr/local/lib/python3.10/dist-packages (from pandas) (2024.2)\n",
            "Requirement already satisfied: tzdata>=2022.7 in /usr/local/lib/python3.10/dist-packages (from pandas) (2024.2)\n",
            "Requirement already satisfied: contourpy>=1.0.1 in /usr/local/lib/python3.10/dist-packages (from matplotlib) (1.3.1)\n",
            "Requirement already satisfied: cycler>=0.10 in /usr/local/lib/python3.10/dist-packages (from matplotlib) (0.12.1)\n",
            "Requirement already satisfied: fonttools>=4.22.0 in /usr/local/lib/python3.10/dist-packages (from matplotlib) (4.55.3)\n",
            "Requirement already satisfied: kiwisolver>=1.0.1 in /usr/local/lib/python3.10/dist-packages (from matplotlib) (1.4.7)\n",
            "Requirement already satisfied: packaging>=20.0 in /usr/local/lib/python3.10/dist-packages (from matplotlib) (24.2)\n",
            "Requirement already satisfied: pillow>=6.2.0 in /usr/local/lib/python3.10/dist-packages (from matplotlib) (11.0.0)\n",
            "Requirement already satisfied: pyparsing>=2.3.1 in /usr/local/lib/python3.10/dist-packages (from matplotlib) (3.2.0)\n",
            "Requirement already satisfied: six>=1.5 in /usr/local/lib/python3.10/dist-packages (from python-dateutil>=2.8.2->pandas) (1.17.0)\n"
          ]
        }
      ]
    },
    {
      "cell_type": "code",
      "source": [
        "pip install catboost"
      ],
      "metadata": {
        "colab": {
          "base_uri": "https://localhost:8080/"
        },
        "id": "81VPwwMN08qc",
        "outputId": "96c7c3d8-8c31-4fc7-8cb5-95e495375bb1"
      },
      "execution_count": 37,
      "outputs": [
        {
          "output_type": "stream",
          "name": "stdout",
          "text": [
            "Requirement already satisfied: catboost in /usr/local/lib/python3.10/dist-packages (1.2.7)\n",
            "Requirement already satisfied: graphviz in /usr/local/lib/python3.10/dist-packages (from catboost) (0.20.3)\n",
            "Requirement already satisfied: matplotlib in /usr/local/lib/python3.10/dist-packages (from catboost) (3.8.0)\n",
            "Requirement already satisfied: numpy<2.0,>=1.16.0 in /usr/local/lib/python3.10/dist-packages (from catboost) (1.26.4)\n",
            "Requirement already satisfied: pandas>=0.24 in /usr/local/lib/python3.10/dist-packages (from catboost) (2.2.2)\n",
            "Requirement already satisfied: scipy in /usr/local/lib/python3.10/dist-packages (from catboost) (1.13.1)\n",
            "Requirement already satisfied: plotly in /usr/local/lib/python3.10/dist-packages (from catboost) (5.24.1)\n",
            "Requirement already satisfied: six in /usr/local/lib/python3.10/dist-packages (from catboost) (1.17.0)\n",
            "Requirement already satisfied: python-dateutil>=2.8.2 in /usr/local/lib/python3.10/dist-packages (from pandas>=0.24->catboost) (2.8.2)\n",
            "Requirement already satisfied: pytz>=2020.1 in /usr/local/lib/python3.10/dist-packages (from pandas>=0.24->catboost) (2024.2)\n",
            "Requirement already satisfied: tzdata>=2022.7 in /usr/local/lib/python3.10/dist-packages (from pandas>=0.24->catboost) (2024.2)\n",
            "Requirement already satisfied: contourpy>=1.0.1 in /usr/local/lib/python3.10/dist-packages (from matplotlib->catboost) (1.3.1)\n",
            "Requirement already satisfied: cycler>=0.10 in /usr/local/lib/python3.10/dist-packages (from matplotlib->catboost) (0.12.1)\n",
            "Requirement already satisfied: fonttools>=4.22.0 in /usr/local/lib/python3.10/dist-packages (from matplotlib->catboost) (4.55.3)\n",
            "Requirement already satisfied: kiwisolver>=1.0.1 in /usr/local/lib/python3.10/dist-packages (from matplotlib->catboost) (1.4.7)\n",
            "Requirement already satisfied: packaging>=20.0 in /usr/local/lib/python3.10/dist-packages (from matplotlib->catboost) (24.2)\n",
            "Requirement already satisfied: pillow>=6.2.0 in /usr/local/lib/python3.10/dist-packages (from matplotlib->catboost) (11.0.0)\n",
            "Requirement already satisfied: pyparsing>=2.3.1 in /usr/local/lib/python3.10/dist-packages (from matplotlib->catboost) (3.2.0)\n",
            "Requirement already satisfied: tenacity>=6.2.0 in /usr/local/lib/python3.10/dist-packages (from plotly->catboost) (9.0.0)\n"
          ]
        }
      ]
    },
    {
      "cell_type": "code",
      "source": [
        "!pip install fastapi uvicorn nest-asyncio pyngrok"
      ],
      "metadata": {
        "colab": {
          "base_uri": "https://localhost:8080/"
        },
        "id": "Rh3zNemc1Ag1",
        "outputId": "b30e75d3-ed18-40be-ceeb-56a54841e889"
      },
      "execution_count": 38,
      "outputs": [
        {
          "output_type": "stream",
          "name": "stdout",
          "text": [
            "Requirement already satisfied: fastapi in /usr/local/lib/python3.10/dist-packages (0.115.6)\n",
            "Requirement already satisfied: uvicorn in /usr/local/lib/python3.10/dist-packages (0.34.0)\n",
            "Requirement already satisfied: nest-asyncio in /usr/local/lib/python3.10/dist-packages (1.6.0)\n",
            "Requirement already satisfied: pyngrok in /usr/local/lib/python3.10/dist-packages (7.2.2)\n",
            "Requirement already satisfied: starlette<0.42.0,>=0.40.0 in /usr/local/lib/python3.10/dist-packages (from fastapi) (0.41.3)\n",
            "Requirement already satisfied: pydantic!=1.8,!=1.8.1,!=2.0.0,!=2.0.1,!=2.1.0,<3.0.0,>=1.7.4 in /usr/local/lib/python3.10/dist-packages (from fastapi) (2.10.3)\n",
            "Requirement already satisfied: typing-extensions>=4.8.0 in /usr/local/lib/python3.10/dist-packages (from fastapi) (4.12.2)\n",
            "Requirement already satisfied: click>=7.0 in /usr/local/lib/python3.10/dist-packages (from uvicorn) (8.1.7)\n",
            "Requirement already satisfied: h11>=0.8 in /usr/local/lib/python3.10/dist-packages (from uvicorn) (0.14.0)\n",
            "Requirement already satisfied: PyYAML>=5.1 in /usr/local/lib/python3.10/dist-packages (from pyngrok) (6.0.2)\n",
            "Requirement already satisfied: annotated-types>=0.6.0 in /usr/local/lib/python3.10/dist-packages (from pydantic!=1.8,!=1.8.1,!=2.0.0,!=2.0.1,!=2.1.0,<3.0.0,>=1.7.4->fastapi) (0.7.0)\n",
            "Requirement already satisfied: pydantic-core==2.27.1 in /usr/local/lib/python3.10/dist-packages (from pydantic!=1.8,!=1.8.1,!=2.0.0,!=2.0.1,!=2.1.0,<3.0.0,>=1.7.4->fastapi) (2.27.1)\n",
            "Requirement already satisfied: anyio<5,>=3.4.0 in /usr/local/lib/python3.10/dist-packages (from starlette<0.42.0,>=0.40.0->fastapi) (3.7.1)\n",
            "Requirement already satisfied: idna>=2.8 in /usr/local/lib/python3.10/dist-packages (from anyio<5,>=3.4.0->starlette<0.42.0,>=0.40.0->fastapi) (3.10)\n",
            "Requirement already satisfied: sniffio>=1.1 in /usr/local/lib/python3.10/dist-packages (from anyio<5,>=3.4.0->starlette<0.42.0,>=0.40.0->fastapi) (1.3.1)\n",
            "Requirement already satisfied: exceptiongroup in /usr/local/lib/python3.10/dist-packages (from anyio<5,>=3.4.0->starlette<0.42.0,>=0.40.0->fastapi) (1.2.2)\n"
          ]
        }
      ]
    },
    {
      "cell_type": "code",
      "source": [
        "import pandas as pd\n",
        "import numpy as np\n",
        "import random\n",
        "\n",
        "# Set random seed for reproducibility\n",
        "np.random.seed(42)  # Control randomness for reproducibility\n",
        "\n",
        "\n",
        "# Parameters for data generation\n",
        "n_samples = 5000  # Number of suppliers\n",
        "default_rate = 0.2  # Approximate proportion of defaults\n",
        "\n",
        "# Generate basic supplier information\n",
        "supplier_ids = [f\"SUP-{i:05d}\" for i in range(1, n_samples + 1)]\n",
        "locations = [random.choice([\"North\", \"South\", \"East\", \"West\", \"Central\"]) for _ in range(n_samples)]\n",
        "industries = [random.choice([\"Automotive\", \"Electronics\", \"Textiles\", \"Food\", \"Chemicals\"]) for _ in range(n_samples)]\n",
        "years_in_business = np.random.randint(1, 50, n_samples)\n",
        "\n",
        "# Financial variables\n",
        "revenue = np.random.uniform(100000, 5000000, n_samples)  # Revenue in range $100k to $5M\n",
        "profit_margin = np.random.uniform(-0.2, 0.4, n_samples)  # Profit margin from -20% to 40%\n",
        "outstanding_loans = np.random.uniform(10000, 1000000, n_samples)  # Loans from $10k to $1M\n",
        "credit_limit = revenue * np.random.uniform(0.2, 0.8, n_samples)  # Credit limit proportional to revenue\n",
        "\n",
        "# Operational variables\n",
        "payment_delays = np.random.randint(0, 365, n_samples)  # Days of payment delays\n",
        "supplier_risk_rating = np.random.choice([\"A\", \"B\", \"C\", \"D\"], size=n_samples, p=[0.4, 0.3, 0.2, 0.1])\n",
        "\n",
        "# Macroeconomic variables\n",
        "industry_default_rate = [random.uniform(0.01, 0.2) for _ in industries]  # Default rates by industry\n",
        "regional_economic_growth = [random.uniform(-0.05, 0.05) for _ in locations]  # Regional GDP growth\n",
        "\n",
        "# Calculate credit utilization\n",
        "credit_utilization = outstanding_loans / (credit_limit + 1e-6)  # Prevent division by zero\n",
        "\n",
        "\n",
        "\n",
        "# Create the target variable (Default) based on complex relationships\n",
        "def calculate_default(row):\n",
        "    score = 0\n",
        "    if row[\"Credit_Utilization\"] > 0.6:\n",
        "        score += np.random.choice([1, 2])  # Add variability\n",
        "    if row[\"Profit_Margin\"] < 0:\n",
        "        score += np.random.choice([1, 2])\n",
        "    if row[\"Payment_Delays\"] > 180:\n",
        "        score += np.random.choice([1, 3])  # Increase randomness\n",
        "    if row[\"Supplier_Risk_Rating\"] == \"D\":\n",
        "        score += np.random.choice([2, 3])\n",
        "    elif row[\"Supplier_Risk_Rating\"] == \"C\":\n",
        "        score += np.random.choice([1, 2])\n",
        "    if row[\"Industry_Default_Rate\"] > 0.15:\n",
        "        score += np.random.choice([0, 1])\n",
        "    if row[\"Regional_Economic_Growth\"] < 0:\n",
        "        score += np.random.choice([0, 1])\n",
        "\n",
        "    random_factor = np.random.uniform(0, 2)\n",
        "    return 1 if score + random_factor >= 6 else 0\n",
        "\n",
        "\n",
        "\n",
        "# Combine all features into a DataFrame\n",
        "data = pd.DataFrame({\n",
        "    \"Supplier_ID\": supplier_ids,\n",
        "    \"Location\": locations,\n",
        "    \"Industry\": industries,\n",
        "    \"Years_in_Business\": years_in_business,\n",
        "    \"Revenue\": revenue,\n",
        "    \"Profit_Margin\": profit_margin,\n",
        "    \"Outstanding_Loans\": outstanding_loans,\n",
        "    \"Credit_Limit\": credit_limit,\n",
        "    \"Credit_Utilization\": credit_utilization,\n",
        "    \"Payment_Delays\": payment_delays,\n",
        "    \"Supplier_Risk_Rating\": supplier_risk_rating,\n",
        "    \"Industry_Default_Rate\": industry_default_rate,\n",
        "    \"Regional_Economic_Growth\": regional_economic_growth,\n",
        "})\n",
        "\n",
        "# Add the Default target variable\n",
        "data[\"Default\"] = data.apply(calculate_default, axis=1)\n",
        "\n",
        "# One-hot encode categorical variables\n",
        "data = pd.get_dummies(data, columns=[\"Location\", \"Industry\", \"Supplier_Risk_Rating\"], drop_first=True)\n",
        "\n",
        "# Save the synthetic dataset\n",
        "data.to_csv(\"supplier_default_data_enhanced.csv\", index=False)\n",
        "print(\"Synthetic dataset created and saved as 'supplier_default_data_enhanced.csv'\")\n"
      ],
      "metadata": {
        "colab": {
          "base_uri": "https://localhost:8080/"
        },
        "id": "9A4tHJhlrWR8",
        "outputId": "0c6ce870-dc3a-4fe0-dc10-e74f01cbb35c"
      },
      "execution_count": 39,
      "outputs": [
        {
          "output_type": "stream",
          "name": "stdout",
          "text": [
            "Synthetic dataset created and saved as 'supplier_default_data_enhanced.csv'\n"
          ]
        }
      ]
    },
    {
      "cell_type": "code",
      "source": [],
      "metadata": {
        "colab": {
          "base_uri": "https://localhost:8080/"
        },
        "id": "cqb87HFSr5ja",
        "outputId": "9b302a37-76c2-4925-e169-e7140687049c"
      },
      "execution_count": 4,
      "outputs": [
        {
          "output_type": "stream",
          "name": "stdout",
          "text": [
            "Collecting catboost\n",
            "  Downloading catboost-1.2.7-cp310-cp310-manylinux2014_x86_64.whl.metadata (1.2 kB)\n",
            "Requirement already satisfied: graphviz in /usr/local/lib/python3.10/dist-packages (from catboost) (0.20.3)\n",
            "Requirement already satisfied: matplotlib in /usr/local/lib/python3.10/dist-packages (from catboost) (3.8.0)\n",
            "Requirement already satisfied: numpy<2.0,>=1.16.0 in /usr/local/lib/python3.10/dist-packages (from catboost) (1.26.4)\n",
            "Requirement already satisfied: pandas>=0.24 in /usr/local/lib/python3.10/dist-packages (from catboost) (2.2.2)\n",
            "Requirement already satisfied: scipy in /usr/local/lib/python3.10/dist-packages (from catboost) (1.13.1)\n",
            "Requirement already satisfied: plotly in /usr/local/lib/python3.10/dist-packages (from catboost) (5.24.1)\n",
            "Requirement already satisfied: six in /usr/local/lib/python3.10/dist-packages (from catboost) (1.17.0)\n",
            "Requirement already satisfied: python-dateutil>=2.8.2 in /usr/local/lib/python3.10/dist-packages (from pandas>=0.24->catboost) (2.8.2)\n",
            "Requirement already satisfied: pytz>=2020.1 in /usr/local/lib/python3.10/dist-packages (from pandas>=0.24->catboost) (2024.2)\n",
            "Requirement already satisfied: tzdata>=2022.7 in /usr/local/lib/python3.10/dist-packages (from pandas>=0.24->catboost) (2024.2)\n",
            "Requirement already satisfied: contourpy>=1.0.1 in /usr/local/lib/python3.10/dist-packages (from matplotlib->catboost) (1.3.1)\n",
            "Requirement already satisfied: cycler>=0.10 in /usr/local/lib/python3.10/dist-packages (from matplotlib->catboost) (0.12.1)\n",
            "Requirement already satisfied: fonttools>=4.22.0 in /usr/local/lib/python3.10/dist-packages (from matplotlib->catboost) (4.55.3)\n",
            "Requirement already satisfied: kiwisolver>=1.0.1 in /usr/local/lib/python3.10/dist-packages (from matplotlib->catboost) (1.4.7)\n",
            "Requirement already satisfied: packaging>=20.0 in /usr/local/lib/python3.10/dist-packages (from matplotlib->catboost) (24.2)\n",
            "Requirement already satisfied: pillow>=6.2.0 in /usr/local/lib/python3.10/dist-packages (from matplotlib->catboost) (11.0.0)\n",
            "Requirement already satisfied: pyparsing>=2.3.1 in /usr/local/lib/python3.10/dist-packages (from matplotlib->catboost) (3.2.0)\n",
            "Requirement already satisfied: tenacity>=6.2.0 in /usr/local/lib/python3.10/dist-packages (from plotly->catboost) (9.0.0)\n",
            "Downloading catboost-1.2.7-cp310-cp310-manylinux2014_x86_64.whl (98.7 MB)\n",
            "\u001b[2K   \u001b[90m━━━━━━━━━━━━━━━━━━━━━━━━━━━━━━━━━━━━━━━━\u001b[0m \u001b[32m98.7/98.7 MB\u001b[0m \u001b[31m7.8 MB/s\u001b[0m eta \u001b[36m0:00:00\u001b[0m\n",
            "\u001b[?25hInstalling collected packages: catboost\n",
            "Successfully installed catboost-1.2.7\n"
          ]
        }
      ]
    },
    {
      "cell_type": "code",
      "source": [
        "import pandas as pd\n",
        "import numpy as np\n",
        "from sklearn.model_selection import train_test_split, cross_val_score\n",
        "from sklearn.metrics import roc_auc_score\n",
        "from sklearn.ensemble import StackingClassifier\n",
        "from xgboost import XGBClassifier\n",
        "from lightgbm import LGBMClassifier\n",
        "from catboost import CatBoostClassifier\n",
        "\n",
        "from imblearn.over_sampling import SMOTE\n",
        "\n",
        "# Load enhanced dataset\n",
        "data = pd.read_csv(\"supplier_default_data_enhanced.csv\")\n",
        "\n",
        "data[\"Payment_Delays\"] = data[\"Payment_Delays\"] + np.random.normal(0, 50, len(data))\n",
        "data[\"Credit_Utilization\"] = data[\"Credit_Utilization\"] + np.random.normal(0, 0.1, len(data))\n",
        "data[\"Random_Noise\"] = np.random.uniform(0, 1, len(data))  # Add noise feature\n",
        "\n",
        "\n",
        "# Split the data\n",
        "X = data.drop(columns=[\"Supplier_ID\", \"Default\"])\n",
        "y = data[\"Default\"]\n",
        "X_train, X_test, y_train, y_test = train_test_split(X, y, test_size=0.2, random_state=42)\n",
        "\n",
        "\n",
        "\n",
        "smote = SMOTE(random_state=42)\n",
        "X_resampled, y_resampled = smote.fit_resample(X, y)\n",
        "# Define base models\n",
        "lgbm = LGBMClassifier(random_state=42)\n",
        "\n",
        "xgb = XGBClassifier(\n",
        "    max_depth=3,\n",
        "    learning_rate=0.1,\n",
        "    n_estimators=100,\n",
        "    subsample=0.8,\n",
        "    colsample_bytree=0.8,\n",
        "    eval_metric=\"logloss\",\n",
        "    random_state=42\n",
        ")\n",
        "\n",
        "catboost = CatBoostClassifier(\n",
        "    depth=3,\n",
        "    learning_rate=0.1,\n",
        "    iterations=100,\n",
        "    random_state=42,\n",
        "    verbose=0\n",
        ")\n",
        "\n",
        "\n",
        "# Define stacking model\n",
        "estimators = [\n",
        "    ('xgb', xgb),\n",
        "    ('lgbm', lgbm),\n",
        "    ('catboost', catboost)\n",
        "]\n",
        "stacking_model = StackingClassifier(estimators=estimators, final_estimator=LGBMClassifier(random_state=42), cv=5)\n",
        "\n",
        "# Train models and evaluate\n",
        "models = {\n",
        "    \"XGBoost\": xgb,\n",
        "    \"LightGBM\": lgbm,\n",
        "    \"CatBoost\": catboost,\n",
        "    \"Stacking Model\": stacking_model\n",
        "}\n",
        "\n",
        "for name, model in models.items():\n",
        "    model.fit(X_train, y_train)\n",
        "    y_pred = model.predict_proba(X_test)[:, 1]\n",
        "    roc_auc = roc_auc_score(y_test, y_pred)\n",
        "    print(f\"{name} Model\\nROC-AUC Score: {roc_auc}\\n\")\n"
      ],
      "metadata": {
        "colab": {
          "base_uri": "https://localhost:8080/"
        },
        "id": "9n0_pARZrk1w",
        "outputId": "44c292cc-4292-4e10-eef4-151ac97af639"
      },
      "execution_count": 40,
      "outputs": [
        {
          "output_type": "stream",
          "name": "stdout",
          "text": [
            "XGBoost Model\n",
            "ROC-AUC Score: 0.8825746528167276\n",
            "\n",
            "[LightGBM] [Info] Number of positive: 639, number of negative: 3361\n",
            "[LightGBM] [Info] Auto-choosing col-wise multi-threading, the overhead of testing was 0.001115 seconds.\n",
            "You can set `force_col_wise=true` to remove the overhead.\n",
            "[LightGBM] [Info] Total Bins 2367\n",
            "[LightGBM] [Info] Number of data points in the train set: 4000, number of used features: 21\n",
            "[LightGBM] [Info] [binary:BoostFromScore]: pavg=0.159750 -> initscore=-1.660089\n",
            "[LightGBM] [Info] Start training from score -1.660089\n",
            "LightGBM Model\n",
            "ROC-AUC Score: 0.8767116116632641\n",
            "\n",
            "CatBoost Model\n",
            "ROC-AUC Score: 0.8951532691689289\n",
            "\n",
            "[LightGBM] [Info] Number of positive: 639, number of negative: 3361\n",
            "[LightGBM] [Info] Auto-choosing col-wise multi-threading, the overhead of testing was 0.001107 seconds.\n",
            "You can set `force_col_wise=true` to remove the overhead.\n",
            "[LightGBM] [Info] Total Bins 2367\n",
            "[LightGBM] [Info] Number of data points in the train set: 4000, number of used features: 21\n",
            "[LightGBM] [Info] [binary:BoostFromScore]: pavg=0.159750 -> initscore=-1.660089\n",
            "[LightGBM] [Info] Start training from score -1.660089\n",
            "[LightGBM] [Info] Number of positive: 512, number of negative: 2688\n",
            "[LightGBM] [Info] Auto-choosing col-wise multi-threading, the overhead of testing was 0.000858 seconds.\n",
            "You can set `force_col_wise=true` to remove the overhead.\n",
            "[LightGBM] [Info] Total Bins 2367\n",
            "[LightGBM] [Info] Number of data points in the train set: 3200, number of used features: 21\n",
            "[LightGBM] [Info] [binary:BoostFromScore]: pavg=0.160000 -> initscore=-1.658228\n",
            "[LightGBM] [Info] Start training from score -1.658228\n",
            "[LightGBM] [Info] Number of positive: 511, number of negative: 2689\n",
            "[LightGBM] [Info] Auto-choosing col-wise multi-threading, the overhead of testing was 0.000858 seconds.\n",
            "You can set `force_col_wise=true` to remove the overhead.\n",
            "[LightGBM] [Info] Total Bins 2367\n",
            "[LightGBM] [Info] Number of data points in the train set: 3200, number of used features: 21\n",
            "[LightGBM] [Info] [binary:BoostFromScore]: pavg=0.159688 -> initscore=-1.660555\n",
            "[LightGBM] [Info] Start training from score -1.660555\n",
            "[LightGBM] [Info] Number of positive: 511, number of negative: 2689\n",
            "[LightGBM] [Info] Auto-choosing col-wise multi-threading, the overhead of testing was 0.000856 seconds.\n",
            "You can set `force_col_wise=true` to remove the overhead.\n",
            "[LightGBM] [Info] Total Bins 2367\n",
            "[LightGBM] [Info] Number of data points in the train set: 3200, number of used features: 21\n",
            "[LightGBM] [Info] [binary:BoostFromScore]: pavg=0.159688 -> initscore=-1.660555\n",
            "[LightGBM] [Info] Start training from score -1.660555\n",
            "[LightGBM] [Info] Number of positive: 511, number of negative: 2689\n",
            "[LightGBM] [Info] Auto-choosing col-wise multi-threading, the overhead of testing was 0.000868 seconds.\n",
            "You can set `force_col_wise=true` to remove the overhead.\n",
            "[LightGBM] [Info] Total Bins 2367\n",
            "[LightGBM] [Info] Number of data points in the train set: 3200, number of used features: 21\n",
            "[LightGBM] [Info] [binary:BoostFromScore]: pavg=0.159688 -> initscore=-1.660555\n",
            "[LightGBM] [Info] Start training from score -1.660555\n",
            "[LightGBM] [Info] Number of positive: 511, number of negative: 2689\n",
            "[LightGBM] [Info] Auto-choosing col-wise multi-threading, the overhead of testing was 0.000912 seconds.\n",
            "You can set `force_col_wise=true` to remove the overhead.\n",
            "[LightGBM] [Info] Total Bins 2367\n",
            "[LightGBM] [Info] Number of data points in the train set: 3200, number of used features: 21\n",
            "[LightGBM] [Info] [binary:BoostFromScore]: pavg=0.159688 -> initscore=-1.660555\n",
            "[LightGBM] [Info] Start training from score -1.660555\n",
            "[LightGBM] [Info] Number of positive: 639, number of negative: 3361\n",
            "[LightGBM] [Info] Auto-choosing col-wise multi-threading, the overhead of testing was 0.000262 seconds.\n",
            "You can set `force_col_wise=true` to remove the overhead.\n",
            "[LightGBM] [Info] Total Bins 765\n",
            "[LightGBM] [Info] Number of data points in the train set: 4000, number of used features: 3\n",
            "[LightGBM] [Info] [binary:BoostFromScore]: pavg=0.159750 -> initscore=-1.660089\n",
            "[LightGBM] [Info] Start training from score -1.660089\n",
            "Stacking Model Model\n",
            "ROC-AUC Score: 0.8801030519223147\n",
            "\n"
          ]
        }
      ]
    },
    {
      "cell_type": "code",
      "source": [
        "from sklearn.model_selection import cross_val_score\n",
        "\n",
        "xgb_scores = cross_val_score(xgb, X_resampled, y_resampled, cv=5, scoring=\"roc_auc\")\n",
        "print(\"XGBoost Cross-validated ROC-AUC:\", xgb_scores.mean())"
      ],
      "metadata": {
        "colab": {
          "base_uri": "https://localhost:8080/"
        },
        "id": "g6Jai9fvn-VM",
        "outputId": "6a8a6af2-041d-4bd0-a9ee-5a84db8332b9"
      },
      "execution_count": 41,
      "outputs": [
        {
          "output_type": "stream",
          "name": "stdout",
          "text": [
            "XGBoost Cross-validated ROC-AUC: 0.9687049333209303\n"
          ]
        }
      ]
    },
    {
      "cell_type": "code",
      "source": [
        "from xgboost import plot_importance\n",
        "import matplotlib.pyplot as plt\n",
        "\n",
        "model = models[\"XGBoost\"]\n",
        "plot_importance(model)\n",
        "plt.show()"
      ],
      "metadata": {
        "colab": {
          "base_uri": "https://localhost:8080/",
          "height": 472
        },
        "id": "1ZNnCxPboFOG",
        "outputId": "960e872b-710e-4fa8-89bf-f199f503641f"
      },
      "execution_count": 42,
      "outputs": [
        {
          "output_type": "display_data",
          "data": {
            "text/plain": [
              "<Figure size 640x480 with 1 Axes>"
            ],
            "image/png": "[encoded data removed]"
          },
          "metadata": {}
        }
      ]
    },
    {
      "cell_type": "code",
      "source": [
        "import joblib\n",
        "\n",
        "# Save the trained model\n",
        "joblib.dump(model, \"supplier_default_model.pkl\")\n",
        "print(\"Model saved as supplier_default_model.pkl\")"
      ],
      "metadata": {
        "colab": {
          "base_uri": "https://localhost:8080/"
        },
        "id": "zVlNjk2mru2w",
        "outputId": "5f1ddfa6-f722-46f6-dc76-00743d8605b1"
      },
      "execution_count": 43,
      "outputs": [
        {
          "output_type": "stream",
          "name": "stdout",
          "text": [
            "Model saved as supplier_default_model.pkl\n"
          ]
        }
      ]
    },
    {
      "cell_type": "code",
      "source": [],
      "metadata": {
        "colab": {
          "base_uri": "https://localhost:8080/"
        },
        "id": "-Zltuksutv0L",
        "outputId": "d51368e9-c3e8-43e9-aff1-88571bf97558"
      },
      "execution_count": 25,
      "outputs": [
        {
          "output_type": "stream",
          "name": "stdout",
          "text": [
            "Collecting fastapi\n",
            "  Downloading fastapi-0.115.6-py3-none-any.whl.metadata (27 kB)\n",
            "Requirement already satisfied: uvicorn in /usr/local/lib/python3.10/dist-packages (0.34.0)\n",
            "Requirement already satisfied: nest-asyncio in /usr/local/lib/python3.10/dist-packages (1.6.0)\n",
            "Collecting pyngrok\n",
            "  Downloading pyngrok-7.2.2-py3-none-any.whl.metadata (8.4 kB)\n",
            "Collecting starlette<0.42.0,>=0.40.0 (from fastapi)\n",
            "  Downloading starlette-0.41.3-py3-none-any.whl.metadata (6.0 kB)\n",
            "Requirement already satisfied: pydantic!=1.8,!=1.8.1,!=2.0.0,!=2.0.1,!=2.1.0,<3.0.0,>=1.7.4 in /usr/local/lib/python3.10/dist-packages (from fastapi) (2.10.3)\n",
            "Requirement already satisfied: typing-extensions>=4.8.0 in /usr/local/lib/python3.10/dist-packages (from fastapi) (4.12.2)\n",
            "Requirement already satisfied: click>=7.0 in /usr/local/lib/python3.10/dist-packages (from uvicorn) (8.1.7)\n",
            "Requirement already satisfied: h11>=0.8 in /usr/local/lib/python3.10/dist-packages (from uvicorn) (0.14.0)\n",
            "Requirement already satisfied: PyYAML>=5.1 in /usr/local/lib/python3.10/dist-packages (from pyngrok) (6.0.2)\n",
            "Requirement already satisfied: annotated-types>=0.6.0 in /usr/local/lib/python3.10/dist-packages (from pydantic!=1.8,!=1.8.1,!=2.0.0,!=2.0.1,!=2.1.0,<3.0.0,>=1.7.4->fastapi) (0.7.0)\n",
            "Requirement already satisfied: pydantic-core==2.27.1 in /usr/local/lib/python3.10/dist-packages (from pydantic!=1.8,!=1.8.1,!=2.0.0,!=2.0.1,!=2.1.0,<3.0.0,>=1.7.4->fastapi) (2.27.1)\n",
            "Requirement already satisfied: anyio<5,>=3.4.0 in /usr/local/lib/python3.10/dist-packages (from starlette<0.42.0,>=0.40.0->fastapi) (3.7.1)\n",
            "Requirement already satisfied: idna>=2.8 in /usr/local/lib/python3.10/dist-packages (from anyio<5,>=3.4.0->starlette<0.42.0,>=0.40.0->fastapi) (3.10)\n",
            "Requirement already satisfied: sniffio>=1.1 in /usr/local/lib/python3.10/dist-packages (from anyio<5,>=3.4.0->starlette<0.42.0,>=0.40.0->fastapi) (1.3.1)\n",
            "Requirement already satisfied: exceptiongroup in /usr/local/lib/python3.10/dist-packages (from anyio<5,>=3.4.0->starlette<0.42.0,>=0.40.0->fastapi) (1.2.2)\n",
            "Downloading fastapi-0.115.6-py3-none-any.whl (94 kB)\n",
            "\u001b[2K   \u001b[90m━━━━━━━━━━━━━━━━━━━━━━━━━━━━━━━━━━━━━━━━\u001b[0m \u001b[32m94.8/94.8 kB\u001b[0m \u001b[31m2.0 MB/s\u001b[0m eta \u001b[36m0:00:00\u001b[0m\n",
            "\u001b[?25hDownloading pyngrok-7.2.2-py3-none-any.whl (22 kB)\n",
            "Downloading starlette-0.41.3-py3-none-any.whl (73 kB)\n",
            "\u001b[2K   \u001b[90m━━━━━━━━━━━━━━━━━━━━━━━━━━━━━━━━━━━━━━━━\u001b[0m \u001b[32m73.2/73.2 kB\u001b[0m \u001b[31m4.4 MB/s\u001b[0m eta \u001b[36m0:00:00\u001b[0m\n",
            "\u001b[?25hInstalling collected packages: pyngrok, starlette, fastapi\n",
            "Successfully installed fastapi-0.115.6 pyngrok-7.2.2 starlette-0.41.3\n"
          ]
        }
      ]
    },
    {
      "cell_type": "code",
      "source": [
        "!ngrok authtoken 2qJIYcClSzqyb0Pwq6dn2BccixK_5X3i3fBj5Q8ULu33TqwDv"
      ],
      "metadata": {
        "colab": {
          "base_uri": "https://localhost:8080/"
        },
        "id": "MTHUsMpYxOj-",
        "outputId": "51a1336e-1411-4db7-cd72-79cb30f00514"
      },
      "execution_count": 44,
      "outputs": [
        {
          "output_type": "stream",
          "name": "stdout",
          "text": [
            "Authtoken saved to configuration file: /root/.config/ngrok/ngrok.yml\n"
          ]
        }
      ]
    },
    {
      "cell_type": "code",
      "source": [
        "from fastapi import FastAPI\n",
        "from pydantic import BaseModel\n",
        "import joblib\n",
        "import pandas as pd\n",
        "\n",
        "# Initialize FastAPI\n",
        "app = FastAPI()\n",
        "\n",
        "# Define the input schema\n",
        "class SupplierDataInput(BaseModel):\n",
        "    Credit_Utilization: float\n",
        "    Payment_Delays: int\n",
        "    Profit_Margin: float\n",
        "    Revenue: float\n",
        "    Outstanding_Loans: float\n",
        "    Years_in_Business: int\n",
        "    Supplier_Risk_Rating: str\n",
        "    Industry_Default_Rate: float\n",
        "    Regional_Economic_Growth: float\n",
        "    Location: str\n",
        "    Industry: str\n",
        "\n",
        "# Load the trained model and features\n",
        "model = joblib.load(\"supplier_default_model.pkl\")\n",
        "\n",
        "# Save the feature columns used in training\n",
        "feature_columns = [\n",
        "    \"Years_in_Business\", \"Revenue\", \"Profit_Margin\", \"Outstanding_Loans\",\n",
        "    \"Credit_Limit\", \"Credit_Utilization\", \"Payment_Delays\",\n",
        "    \"Industry_Default_Rate\", \"Regional_Economic_Growth\",\n",
        "    \"Location_East\", \"Location_North\", \"Location_South\", \"Location_West\",\n",
        "    \"Industry_Chemicals\", \"Industry_Electronics\", \"Industry_Food\", \"Industry_Textiles\",\n",
        "    \"Supplier_Risk_Rating_B\", \"Supplier_Risk_Rating_C\", \"Supplier_Risk_Rating_D\",\n",
        "    \"Random_Noise\"\n",
        "]\n",
        "\n",
        "# Define one-hot encoding mappings\n",
        "location_categories = [\"East\", \"North\", \"South\", \"West\"]\n",
        "industry_categories = [\"Chemicals\", \"Electronics\", \"Food\", \"Textiles\"]\n",
        "risk_rating_categories = [\"B\", \"C\", \"D\"]\n",
        "\n",
        "@app.post(\"/predict\")\n",
        "def predict_default(data: SupplierDataInput):\n",
        "    try:\n",
        "        # Convert input to DataFrame\n",
        "        input_data = pd.DataFrame([data.dict()])\n",
        "\n",
        "        # One-hot encode categorical features\n",
        "        for category in location_categories:\n",
        "            input_data[f\"Location_{category}\"] = (input_data[\"Location\"] == category).astype(int)\n",
        "\n",
        "        for category in industry_categories:\n",
        "            input_data[f\"Industry_{category}\"] = (input_data[\"Industry\"] == category).astype(int)\n",
        "\n",
        "        for category in risk_rating_categories:\n",
        "            input_data[f\"Supplier_Risk_Rating_{category}\"] = (input_data[\"Supplier_Risk_Rating\"] == category).astype(int)\n",
        "\n",
        "        # Drop original categorical columns\n",
        "        input_data = input_data.drop(columns=[\"Location\", \"Industry\", \"Supplier_Risk_Rating\"])\n",
        "\n",
        "        # Add missing columns with default value 0 (to match training data)\n",
        "        for col in feature_columns:\n",
        "            if col not in input_data.columns:\n",
        "                input_data[col] = 0\n",
        "\n",
        "        # Ensure the columns are in the same order as the training data\n",
        "        input_data = input_data[feature_columns]\n",
        "\n",
        "        # Make prediction\n",
        "        prediction_proba = model.predict_proba(input_data)[:, 1]\n",
        "        prediction_class = model.predict(input_data)\n",
        "\n",
        "        return {\n",
        "            \"default_probability\": float(prediction_proba[0]),\n",
        "            \"default_prediction\": int(prediction_class[0])\n",
        "        }\n",
        "    except Exception as e:\n",
        "        return {\"error\": str(e)}\n",
        "\n",
        "\n"
      ],
      "metadata": {
        "id": "-ZBMPHqPybKi"
      },
      "execution_count": 45,
      "outputs": []
    },
    {
      "cell_type": "code",
      "source": [
        "import nest_asyncio\n",
        "import uvicorn\n",
        "from pyngrok import ngrok\n",
        "\n",
        "# Apply the asyncio patch\n",
        "nest_asyncio.apply()\n",
        "\n",
        "# Create a public URL with ngrok\n",
        "public_url = ngrok.connect(8000)\n",
        "print(f\"Public URL: {public_url}\")\n",
        "\n",
        "# Run the Uvicorn server\n",
        "uvicorn.run(app, host=\"0.0.0.0\", port=8000)\n"
      ],
      "metadata": {
        "colab": {
          "base_uri": "https://localhost:8080/"
        },
        "id": "l5TWDSgdvpev",
        "outputId": "537814c1-2673-43ae-c7d1-57d0a63c4629"
      },
      "execution_count": null,
      "outputs": [
        {
          "output_type": "stream",
          "name": "stdout",
          "text": [
            "Public URL: NgrokTunnel: \"https://0cb6-35-247-62-39.ngrok-free.app\" -> \"http://localhost:8000\"\n"
          ]
        },
        {
          "output_type": "stream",
          "name": "stderr",
          "text": [
            "INFO:     Started server process [185]\n",
            "INFO:     Waiting for application startup.\n",
            "INFO:     Application startup complete.\n",
            "INFO:     Uvicorn running on http://0.0.0.0:8000 (Press CTRL+C to quit)\n"
          ]
        },
        {
          "output_type": "stream",
          "name": "stdout",
          "text": [
            "INFO:     223.185.135.213:0 - \"POST /predict HTTP/1.1\" 200 OK\n"
          ]
        },
        {
          "output_type": "stream",
          "name": "stderr",
          "text": [
            "<ipython-input-45-4ed2349ba31e>:46: PydanticDeprecatedSince20: The `dict` method is deprecated; use `model_dump` instead. Deprecated in Pydantic V2.0 to be removed in V3.0. See Pydantic V2 Migration Guide at https://errors.pydantic.dev/2.10/migration/\n",
            "  input_data = pd.DataFrame([data.dict()])\n"
          ]
        },
        {
          "output_type": "stream",
          "name": "stdout",
          "text": [
            "INFO:     223.185.135.213:0 - \"POST /predict HTTP/1.1\" 200 OK\n"
          ]
        },
        {
          "output_type": "stream",
          "name": "stderr",
          "text": [
            "<ipython-input-45-4ed2349ba31e>:46: PydanticDeprecatedSince20: The `dict` method is deprecated; use `model_dump` instead. Deprecated in Pydantic V2.0 to be removed in V3.0. See Pydantic V2 Migration Guide at https://errors.pydantic.dev/2.10/migration/\n",
            "  input_data = pd.DataFrame([data.dict()])\n"
          ]
        },
        {
          "output_type": "stream",
          "name": "stdout",
          "text": [
            "INFO:     223.185.135.213:0 - \"POST /predict HTTP/1.1\" 200 OK\n"
          ]
        },
        {
          "output_type": "stream",
          "name": "stderr",
          "text": [
            "<ipython-input-45-4ed2349ba31e>:46: PydanticDeprecatedSince20: The `dict` method is deprecated; use `model_dump` instead. Deprecated in Pydantic V2.0 to be removed in V3.0. See Pydantic V2 Migration Guide at https://errors.pydantic.dev/2.10/migration/\n",
            "  input_data = pd.DataFrame([data.dict()])\n"
          ]
        },
        {
          "output_type": "stream",
          "name": "stdout",
          "text": [
            "INFO:     223.185.135.213:0 - \"POST /predict HTTP/1.1\" 200 OK\n"
          ]
        },
        {
          "output_type": "stream",
          "name": "stderr",
          "text": [
            "<ipython-input-45-4ed2349ba31e>:46: PydanticDeprecatedSince20: The `dict` method is deprecated; use `model_dump` instead. Deprecated in Pydantic V2.0 to be removed in V3.0. See Pydantic V2 Migration Guide at https://errors.pydantic.dev/2.10/migration/\n",
            "  input_data = pd.DataFrame([data.dict()])\n"
          ]
        },
        {
          "output_type": "stream",
          "name": "stdout",
          "text": [
            "INFO:     223.185.135.213:0 - \"POST /predict HTTP/1.1\" 200 OK\n"
          ]
        },
        {
          "output_type": "stream",
          "name": "stderr",
          "text": [
            "<ipython-input-45-4ed2349ba31e>:46: PydanticDeprecatedSince20: The `dict` method is deprecated; use `model_dump` instead. Deprecated in Pydantic V2.0 to be removed in V3.0. See Pydantic V2 Migration Guide at https://errors.pydantic.dev/2.10/migration/\n",
            "  input_data = pd.DataFrame([data.dict()])\n"
          ]
        },
        {
          "output_type": "stream",
          "name": "stdout",
          "text": [
            "INFO:     223.185.135.213:0 - \"POST /predict HTTP/1.1\" 200 OK\n"
          ]
        },
        {
          "output_type": "stream",
          "name": "stderr",
          "text": [
            "<ipython-input-45-4ed2349ba31e>:46: PydanticDeprecatedSince20: The `dict` method is deprecated; use `model_dump` instead. Deprecated in Pydantic V2.0 to be removed in V3.0. See Pydantic V2 Migration Guide at https://errors.pydantic.dev/2.10/migration/\n",
            "  input_data = pd.DataFrame([data.dict()])\n"
          ]
        },
        {
          "output_type": "stream",
          "name": "stdout",
          "text": [
            "INFO:     223.185.135.213:0 - \"POST /predict HTTP/1.1\" 200 OK\n"
          ]
        },
        {
          "output_type": "stream",
          "name": "stderr",
          "text": [
            "<ipython-input-45-4ed2349ba31e>:46: PydanticDeprecatedSince20: The `dict` method is deprecated; use `model_dump` instead. Deprecated in Pydantic V2.0 to be removed in V3.0. See Pydantic V2 Migration Guide at https://errors.pydantic.dev/2.10/migration/\n",
            "  input_data = pd.DataFrame([data.dict()])\n"
          ]
        },
        {
          "output_type": "stream",
          "name": "stdout",
          "text": [
            "INFO:     223.185.135.213:0 - \"POST /predict HTTP/1.1\" 200 OK\n"
          ]
        },
        {
          "output_type": "stream",
          "name": "stderr",
          "text": [
            "<ipython-input-45-4ed2349ba31e>:46: PydanticDeprecatedSince20: The `dict` method is deprecated; use `model_dump` instead. Deprecated in Pydantic V2.0 to be removed in V3.0. See Pydantic V2 Migration Guide at https://errors.pydantic.dev/2.10/migration/\n",
            "  input_data = pd.DataFrame([data.dict()])\n"
          ]
        },
        {
          "output_type": "stream",
          "name": "stdout",
          "text": [
            "INFO:     223.185.135.213:0 - \"POST /predict HTTP/1.1\" 200 OK\n"
          ]
        },
        {
          "output_type": "stream",
          "name": "stderr",
          "text": [
            "<ipython-input-45-4ed2349ba31e>:46: PydanticDeprecatedSince20: The `dict` method is deprecated; use `model_dump` instead. Deprecated in Pydantic V2.0 to be removed in V3.0. See Pydantic V2 Migration Guide at https://errors.pydantic.dev/2.10/migration/\n",
            "  input_data = pd.DataFrame([data.dict()])\n"
          ]
        },
        {
          "output_type": "stream",
          "name": "stdout",
          "text": [
            "INFO:     223.185.135.213:0 - \"POST /predict HTTP/1.1\" 200 OK\n"
          ]
        },
        {
          "output_type": "stream",
          "name": "stderr",
          "text": [
            "<ipython-input-45-4ed2349ba31e>:46: PydanticDeprecatedSince20: The `dict` method is deprecated; use `model_dump` instead. Deprecated in Pydantic V2.0 to be removed in V3.0. See Pydantic V2 Migration Guide at https://errors.pydantic.dev/2.10/migration/\n",
            "  input_data = pd.DataFrame([data.dict()])\n"
          ]
        },
        {
          "output_type": "stream",
          "name": "stdout",
          "text": [
            "INFO:     223.185.135.213:0 - \"POST /predict HTTP/1.1\" 200 OK\n"
          ]
        },
        {
          "output_type": "stream",
          "name": "stderr",
          "text": [
            "<ipython-input-45-4ed2349ba31e>:46: PydanticDeprecatedSince20: The `dict` method is deprecated; use `model_dump` instead. Deprecated in Pydantic V2.0 to be removed in V3.0. See Pydantic V2 Migration Guide at https://errors.pydantic.dev/2.10/migration/\n",
            "  input_data = pd.DataFrame([data.dict()])\n"
          ]
        }
      ]
    },
    {
      "cell_type": "code",
      "source": [],
      "metadata": {
        "id": "exmj1XbayAP4"
      },
      "execution_count": null,
      "outputs": []
    }
  ]
}